{
  "cells": [
    {
      "metadata": {
        "_uuid": "665e58cf881224347fed31f5e3c292e441eda6f0"
      },
      "cell_type": "markdown",
      "source": "Import statements"
    },
    {
      "metadata": {
        "_uuid": "8f2839f25d086af736a60e9eeb907d3b93b6e0e5",
        "_cell_guid": "b1076dfc-b9ad-4769-8c92-a6c4dae69d19",
        "trusted": true
      },
      "cell_type": "code",
      "source": "import pandas as pd\nimport seaborn as sns\nfrom sklearn.preprocessing import StandardScaler\nfrom sklearn.model_selection import train_test_split, GridSearchCV\nfrom sklearn.ensemble import RandomForestRegressor",
      "execution_count": null,
      "outputs": []
    },
    {
      "metadata": {
        "_uuid": "273636abaf0bcff1646240998a8b17691ec22e36"
      },
      "cell_type": "markdown",
      "source": "Reading the Version 1.1 of the dataset\n\nThe Serial No. can be set as the index as it does not have any other purpose\n\nRenaming the columns which had extra white spaces"
    },
    {
      "metadata": {
        "_cell_guid": "79c7e3d0-c299-4dcb-8224-4455121ee9b0",
        "_uuid": "d629ff2d2480ee46fbb7e2d37f6b5fab8052498a",
        "trusted": true
      },
      "cell_type": "code",
      "source": "data = pd.read_csv('../input/Admission_Predict_Ver1.1.csv').set_index('Serial No.')\ndata = data.rename(columns={'Chance of Admit ': 'Chance of Admit', 'LOR ': 'LOR'})",
      "execution_count": null,
      "outputs": []
    },
    {
      "metadata": {
        "trusted": true,
        "_uuid": "c5cfa238447534a40c8ef865e33cf26c52a4849d"
      },
      "cell_type": "code",
      "source": "print('The dataset has {} rows.'.format(len(data)))\nprint('The dataset has {} columns'.format(data.columns))",
      "execution_count": null,
      "outputs": []
    },
    {
      "metadata": {
        "trusted": true,
        "scrolled": true,
        "_uuid": "fe390eebfbc499a4fdfd1101801cb1ded96d1838"
      },
      "cell_type": "code",
      "source": "print(data.info())",
      "execution_count": null,
      "outputs": []
    },
    {
      "metadata": {
        "trusted": true,
        "_uuid": "b053315176c772df9cd8bca92688413b374a0dca"
      },
      "cell_type": "code",
      "source": "print(data.isnull().any())",
      "execution_count": null,
      "outputs": []
    },
    {
      "metadata": {
        "_uuid": "22af63941883c67d342470cd88759c305b2d95da"
      },
      "cell_type": "markdown",
      "source": "None of the values have any Null values"
    },
    {
      "metadata": {
        "_uuid": "38279bc076bf3d8a4768bd89d612f05810e06844"
      },
      "cell_type": "markdown",
      "source": "Checking the correlation between all the features"
    },
    {
      "metadata": {
        "trusted": true,
        "_uuid": "323f1df92deb346f6efcd01a0d644c77914d6b99"
      },
      "cell_type": "code",
      "source": "sns.heatmap(data.corr(), annot=True)",
      "execution_count": null,
      "outputs": []
    },
    {
      "metadata": {
        "_uuid": "a114ce5c25e8ab3880626953af56bdb66a529a2f"
      },
      "cell_type": "markdown",
      "source": "The Chance of Admit strongly correlates with CGPA, GRE Score and TOEFL Score. It has a weaker correlation with University Rating, SOP and LOR. The Research has the least correlation."
    },
    {
      "metadata": {
        "_uuid": "01f5d45458e906c8e3d63b83e83f8a8ababba2f3"
      },
      "cell_type": "markdown",
      "source": "Let us look at individual features and their properties"
    },
    {
      "metadata": {
        "_uuid": "9814bc95e8b959ed964829a43df1a9cb6e140737"
      },
      "cell_type": "markdown",
      "source": "The Research feature is a binary value and will not show any significant results in the PairPlot. It can be dropped"
    },
    {
      "metadata": {
        "trusted": true,
        "_uuid": "a1229cb2dc193353c2db53e04ab13ec7a24ae392"
      },
      "cell_type": "code",
      "source": "sns.pairplot(data.drop(columns='Research'))",
      "execution_count": null,
      "outputs": []
    },
    {
      "metadata": {
        "_uuid": "f554234c4fd994974cb22ff73cc90f627c22b1a7"
      },
      "cell_type": "markdown",
      "source": "The PairPlot gives a lot of information in one plot. Let us disect it by each feature.\n    1. As GRE Score increases, the TOEFL Scores also increases and even the CGPA Score increases. This means that students who score good GRE Scores also score good TOEFL Scores and have better CGPAs.\n    2. GRE Score has a distribution with a mean near 320 and majority of students score between 310 to 330 which is indicated by the peaks in the graph.\n    3. Students from higher University Rating have higher GRE Scores, TOEFL Scores and CGPA.\n    4. Students have better LOR and SOP rating when they are from higher rated universities.\n    5. We can see a similar trend for relation between GRE Scores, TOEFL Scores, CGPA Scores, LOR Ratings and SOP Ratings. They all increases together, i.e., as students with better SOPs also tend to have better LORs, better GRE, TOEFL and CGPA Scores and are from higher rated universities and they have a higher chance of admit."
    },
    {
      "metadata": {
        "_uuid": "ea29b9759ba18772c15985ce206834563a20b1b6"
      },
      "cell_type": "markdown",
      "source": "Splitting the data into training and testing set"
    },
    {
      "metadata": {
        "trusted": true,
        "_uuid": "d085bad3da4c910814cb19987dbcc5048fa42407"
      },
      "cell_type": "code",
      "source": "X_train, X_test, y_train, y_test = train_test_split(data.drop(columns='Chance of Admit'), data['Chance of Admit'], test_size=0.2)",
      "execution_count": null,
      "outputs": []
    },
    {
      "metadata": {
        "trusted": true,
        "_uuid": "8bbecbb5c7e9a00b87d1e7d4e353e04ad006e463"
      },
      "cell_type": "code",
      "source": "X_train.describe()",
      "execution_count": null,
      "outputs": []
    },
    {
      "metadata": {
        "_uuid": "7e3ee963db06a6300d21c04458d139fa25cd85e3"
      },
      "cell_type": "markdown",
      "source": "The ranges of all the features are very distinct and should be scaled correctly before making any predictions"
    },
    {
      "metadata": {
        "trusted": true,
        "_uuid": "40755c30a5af37ecab07391e413c2a0ca291dc7b"
      },
      "cell_type": "code",
      "source": "dfm = X_train.melt(var_name='columns')\ng = sns.FacetGrid(dfm, col='columns')\ng = (g.map(sns.distplot, 'value'))",
      "execution_count": null,
      "outputs": []
    },
    {
      "metadata": {
        "trusted": true,
        "_uuid": "3e2272e45269fa90e39bdeae52801febe19db6ca"
      },
      "cell_type": "code",
      "source": "scaler = StandardScaler().fit(X_train)\nX_train_norm = scaler.transform(X_train)\nX_test_norm = scaler.transform(X_test)\nX_train = pd.DataFrame(X_train_norm, columns=X_train.columns)\nX_test = pd.DataFrame(X_test_norm, columns=X_test.columns)",
      "execution_count": null,
      "outputs": []
    },
    {
      "metadata": {
        "trusted": true,
        "_uuid": "33b33b4a8853d630ea5de64b223e698dd3a0a80a"
      },
      "cell_type": "code",
      "source": "dfm = X_train.melt(var_name='columns')\ng = sns.FacetGrid(dfm, col='columns')\ng = (g.map(sns.distplot, 'value'))",
      "execution_count": null,
      "outputs": []
    },
    {
      "metadata": {
        "_uuid": "a00f990a553210d622403a4b98683df6a3cece99"
      },
      "cell_type": "markdown",
      "source": "We can see that all the values have 0 mean and have a normal distribution. This enables the model to make better predictions."
    },
    {
      "metadata": {
        "_uuid": "92aa57371d1d20d3fcd1023470d1eff4ec0b85cd"
      },
      "cell_type": "markdown",
      "source": "Creating a Grid Search for Random Forest Regressor"
    },
    {
      "metadata": {
        "trusted": true,
        "scrolled": false,
        "_uuid": "f64ab20f2e9573a58292cc1407ca3bee1481a463"
      },
      "cell_type": "code",
      "source": "gridsearch = GridSearchCV(estimator=RandomForestRegressor(),\n                          param_grid={\n                              'n_estimators': [50, 100, 250, 300],\n                              'max_depth': [None, 100, 200, 300, 400]\n                          },\n                          cv=3,\n                          return_train_score=False,\n                          scoring='r2')\ngridsearch.fit(X=X_train, y=y_train)\npd.DataFrame(gridsearch.cv_results_).set_index('rank_test_score').sort_index()",
      "execution_count": null,
      "outputs": []
    },
    {
      "metadata": {
        "_uuid": "d710b06abf70ad5b31de5b6b121256e7a06a6765"
      },
      "cell_type": "markdown",
      "source": "Taking a look at the Grid Search results, we can see that the Random Forest Regressor with a maximum depth of 200 and 300 estimators gave the best results. But, when we look more closely, we can see that the regressor with maximum depth as None and number of estimators as 50 give almost the same result (difference is 0.001465) but takes less than half the time to make the predictions. If time is of concern, this model should be picked."
    },
    {
      "metadata": {
        "_uuid": "ba60e5a10773e7134e9f7bfa00a7dddc6edb5948"
      },
      "cell_type": "markdown",
      "source": "Because Random Forest is \"random\", the results and the inference above might change when this Notebook is run when making the commit."
    }
  ],
  "metadata": {
    "kernelspec": {
      "display_name": "Python 3",
      "language": "python",
      "name": "python3"
    },
    "language_info": {
      "name": "python",
      "version": "3.6.6",
      "mimetype": "text/x-python",
      "codemirror_mode": {
        "name": "ipython",
        "version": 3
      },
      "pygments_lexer": "ipython3",
      "nbconvert_exporter": "python",
      "file_extension": ".py"
    }
  },
  "nbformat": 4,
  "nbformat_minor": 1
}